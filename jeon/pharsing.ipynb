{
  "nbformat": 4,
  "nbformat_minor": 0,
  "metadata": {
    "colab": {
      "name": "pharsing.ipynb",
      "provenance": [],
      "collapsed_sections": [],
      "mount_file_id": "1gKER_zM_CB5StKJ5O2aUjG55Vq9HciWa",
      "authorship_tag": "ABX9TyOHxhnfwKKXnp9GR3Crpn3C",
      "include_colab_link": true
    },
    "kernelspec": {
      "name": "python3",
      "display_name": "Python 3"
    },
    "language_info": {
      "name": "python"
    }
  },
  "cells": [
    {
      "cell_type": "markdown",
      "metadata": {
        "id": "view-in-github",
        "colab_type": "text"
      },
      "source": [
        "<a href=\"https://colab.research.google.com/github/jeon-maker/Team4_food-project/blob/main/jeon/pharsing.ipynb\" target=\"_parent\"><img src=\"https://colab.research.google.com/assets/colab-badge.svg\" alt=\"Open In Colab\"/></a>"
      ]
    },
    {
      "cell_type": "code",
      "source": [
        "#food detection\n",
        "import numpy as np\n",
        "import pandas as pd\n",
        "from pathlib import Path\n",
        "import os.path\n",
        "\n",
        "import matplotlib.pyplot as plt\n",
        "import seaborn as sns\n",
        "\n",
        "from sklearn.model_selection import train_test_split\n",
        "\n",
        "import tensorflow as tf\n",
        "\n",
        "from sklearn.metrics import confusion_matrix, classification_report"
      ],
      "metadata": {
        "id": "TPBvUsL1rjgE"
      },
      "execution_count": 2,
      "outputs": []
    },
    {
      "cell_type": "code",
      "execution_count": 1,
      "metadata": {
        "id": "5VjeLbeWVk7Q"
      },
      "outputs": [],
      "source": [
        "FOOD_DATA = \"/content/drive/MyDrive/food-data/UECFOOD100\""
      ]
    },
    {
      "cell_type": "markdown",
      "source": [
        "99개의 폴더 안에 있는 txt 파일에 접근하도록 하기"
      ],
      "metadata": {
        "id": "6hI-kKWcv5r6"
      }
    },
    {
      "cell_type": "code",
      "source": [
        "for i in range(1,99):\n",
        "    path = ('/content/drive/MyDrive/food-data/UECFOOD100/%d/bb_info.txt'%i)\n",
        "    with open(path,'r') as f:\n",
        "      data = f.readlines()\n",
        "      pharsing = []\n",
        "      "
      ],
      "metadata": {
        "colab": {
          "base_uri": "https://localhost:8080/"
        },
        "id": "1KhLjnjvwChH",
        "outputId": "f0f5eb66-f98c-4b41-b6d6-962616e58397"
      },
      "execution_count": 22,
      "outputs": [
        {
          "output_type": "stream",
          "name": "stdout",
          "text": [
            "/content/drive/MyDrive/food-data/UECFOOD100/1/bb_info.txt\n",
            "/content/drive/MyDrive/food-data/UECFOOD100/2/bb_info.txt\n",
            "/content/drive/MyDrive/food-data/UECFOOD100/3/bb_info.txt\n",
            "/content/drive/MyDrive/food-data/UECFOOD100/4/bb_info.txt\n"
          ]
        }
      ]
    },
    {
      "cell_type": "code",
      "source": [
        "with open('/content/drive/MyDrive/food-data/UECFOOD100/1/bb_info.txt', 'r') as f:\n",
        "    data = f.readlines()\n",
        "type(data)"
      ],
      "metadata": {
        "colab": {
          "base_uri": "https://localhost:8080/"
        },
        "id": "Foq_2mdFrWea",
        "outputId": "e12d3cb3-a234-48e2-9934-256aacb5c066"
      },
      "execution_count": 23,
      "outputs": [
        {
          "output_type": "execute_result",
          "data": {
            "text/plain": [
              "list"
            ]
          },
          "metadata": {},
          "execution_count": 23
        }
      ]
    },
    {
      "cell_type": "code",
      "source": [
        "pharsing= []\n",
        "pharsing.append(data[1].split(\" \"))"
      ],
      "metadata": {
        "id": "ERab4kyYsKQW"
      },
      "execution_count": 28,
      "outputs": []
    },
    {
      "cell_type": "markdown",
      "source": [
        ""
      ],
      "metadata": {
        "id": "ZiF9tBJevw3m"
      }
    },
    {
      "cell_type": "code",
      "source": [
        "pharsing"
      ],
      "metadata": {
        "colab": {
          "base_uri": "https://localhost:8080/"
        },
        "id": "2G7VgvnpsLJy",
        "outputId": "21bd38a6-5542-464e-b752-8c489076a780"
      },
      "execution_count": 29,
      "outputs": [
        {
          "output_type": "execute_result",
          "data": {
            "text/plain": [
              "[['1', '0', '143', '370', '486\\n']]"
            ]
          },
          "metadata": {},
          "execution_count": 29
        }
      ]
    },
    {
      "cell_type": "code",
      "source": [
        "id = pharsing[0]\n",
        "x = (pharsing[1]+pharsing[3])/2\n",
        "y = (pharsing[2]+pharsing[4])/2\n",
        "w = (pharsing[3]-pharsing[1])\n",
        "h = (pharsing[4]-pharsing[2])\n",
        "\n",
        "#yolo-expectation\n",
        "#일단 반복문에서 i로 이름짓고 나중에 바꾸기\n",
        "#폴더 안에 txt 파일 만들기\n",
        "f_name = path+id\n",
        "f= open(f_name)"
      ],
      "metadata": {
        "id": "EbIERDZcwuu2"
      },
      "execution_count": null,
      "outputs": []
    },
    {
      "cell_type": "code",
      "source": [
        ""
      ],
      "metadata": {
        "id": "N_GRJC37u1U1"
      },
      "execution_count": null,
      "outputs": []
    }
  ]
}