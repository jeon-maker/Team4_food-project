{
  "nbformat": 4,
  "nbformat_minor": 0,
  "metadata": {
    "colab": {
      "name": "pharsing.ipynb",
      "provenance": [],
      "collapsed_sections": [],
      "mount_file_id": "1gKER_zM_CB5StKJ5O2aUjG55Vq9HciWa",
      "authorship_tag": "ABX9TyOrEm+V374xF+F9N0Y7zgzh",
      "include_colab_link": true
    },
    "kernelspec": {
      "name": "python3",
      "display_name": "Python 3"
    },
    "language_info": {
      "name": "python"
    },
    "accelerator": "GPU"
  },
  "cells": [
    {
      "cell_type": "markdown",
      "metadata": {
        "id": "view-in-github",
        "colab_type": "text"
      },
      "source": [
        "<a href=\"https://colab.research.google.com/github/jeon-maker/Team4_food-project/blob/main/jeon/pharsing.ipynb\" target=\"_parent\"><img src=\"https://colab.research.google.com/assets/colab-badge.svg\" alt=\"Open In Colab\"/></a>"
      ]
    },
    {
      "cell_type": "code",
      "source": [
        "#food detection\n",
        "import numpy as np\n",
        "import pandas as pd\n",
        "from pathlib import Path\n",
        "import os.path\n",
        "\n",
        "import matplotlib.pyplot as plt\n",
        "import seaborn as sns\n",
        "\n",
        "from sklearn.model_selection import train_test_split\n",
        "\n",
        "import tensorflow as tf\n",
        "\n",
        "from sklearn.metrics import confusion_matrix, classification_report"
      ],
      "metadata": {
        "id": "TPBvUsL1rjgE"
      },
      "execution_count": 1,
      "outputs": []
    },
    {
      "cell_type": "code",
      "execution_count": null,
      "metadata": {
        "id": "5VjeLbeWVk7Q"
      },
      "outputs": [],
      "source": [
        "FOOD_DATA = \"/content/drive/MyDrive/food-data/UECFOOD100\""
      ]
    },
    {
      "cell_type": "markdown",
      "source": [
        "99개의 폴더 안에 있는 txt 파일에 접근하도록 하기"
      ],
      "metadata": {
        "id": "6hI-kKWcv5r6"
      }
    },
    {
      "cell_type": "code",
      "source": [
        "for i in range(1,3):\n",
        "  print(i)"
      ],
      "metadata": {
        "colab": {
          "base_uri": "https://localhost:8080/"
        },
        "id": "udAbtnlRFfW_",
        "outputId": "0daf67e1-4587-4f45-9758-48a470d2c3b6"
      },
      "execution_count": null,
      "outputs": [
        {
          "output_type": "stream",
          "name": "stdout",
          "text": [
            "1\n",
            "2\n"
          ]
        }
      ]
    },
    {
      "cell_type": "code",
      "source": [
        "'''\n",
        "for i in range(1,100):\n",
        "    path = ('/content/drive/MyDrive/food-data/UECFOOD100/%d/bb_info.txt'%i)\n",
        "    with open(path,'r') as f:\n",
        "      data = f.readlines()\n",
        "      num = len(data)\n",
        "      for j in range(1,num):\n",
        "          pharsing = []\n",
        "          pharsing.append(data[j].split(\" \")) # data 1 id ->1 data 2 id ->2  반복문 필요\n",
        "          id = (pharsing[0][0])\n",
        "          x = str(int((int(pharsing[0][1])+int(pharsing[0][3]))/2))\n",
        "          y = str(int((int(pharsing[0][2])+int(pharsing[0][4]))/2))\n",
        "          w = str((int(pharsing[0][3])-int(pharsing[0][1])))\n",
        "          h = str((int(pharsing[0][4])-int(pharsing[0][2])))\n",
        "\n",
        "          f_name = '/content/drive/MyDrive/food-data/UECFOOD100/'+str(i)+'/'+id+'.txt'\n",
        "          f= open(f_name,'w')\n",
        "          f.write(id)\n",
        "          f.write(\" \")\n",
        "          f.write(x)\n",
        "          f.write(\" \")\n",
        "          f.write(y)\n",
        "          f.write(\" \")\n",
        "          f.write(w)\n",
        "          f.write(\" \")\n",
        "          f.write(h)\n",
        "          f.close()\n",
        "          pharsing = []\n",
        "            '''"
      ],
      "metadata": {
        "id": "1KhLjnjvwChH"
      },
      "execution_count": 19,
      "outputs": []
    },
    {
      "cell_type": "code",
      "source": [
        "'''\n",
        "path = '/content/drive/MyDrive/food-data/UECFOOD100/100/bb_info.txt'\n",
        "with open(path,'r') as f:\n",
        "      data = f.readlines()\n",
        "      num = len(data)\n",
        "      for j in range(1,num):\n",
        "          pharsing = []\n",
        "          pharsing.append(data[j].split(\" \")) # data 1 id ->1 data 2 id ->2  반복문 필요\n",
        "          id = (pharsing[0][0])\n",
        "          x = str(int((int(pharsing[0][1])+int(pharsing[0][3]))/2))\n",
        "          y = str(int((int(pharsing[0][2])+int(pharsing[0][4]))/2))\n",
        "          w = str((int(pharsing[0][3])-int(pharsing[0][1])))\n",
        "          h = str((int(pharsing[0][4])-int(pharsing[0][2])))\n",
        "\n",
        "          f_name = '/content/drive/MyDrive/food-data/UECFOOD100/100/'+id+'.txt'\n",
        "          f= open(f_name,'w')\n",
        "          f.write(id)\n",
        "          f.write(\" \")\n",
        "          f.write(x)\n",
        "          f.write(\" \")\n",
        "          f.write(y)\n",
        "          f.write(\" \")\n",
        "          f.write(w)\n",
        "          f.write(\" \")\n",
        "          f.write(h)\n",
        "          f.close()\n",
        "          pharsing = []\n",
        "          '''"
      ],
      "metadata": {
        "id": "Phj-vgAFIB64"
      },
      "execution_count": 21,
      "outputs": []
    },
    {
      "cell_type": "markdown",
      "source": [
        ""
      ],
      "metadata": {
        "id": "ZiF9tBJevw3m"
      }
    },
    {
      "cell_type": "code",
      "source": [
        ""
      ],
      "metadata": {
        "id": "QXGx9YQgBVw5"
      },
      "execution_count": null,
      "outputs": []
    }
  ]
}